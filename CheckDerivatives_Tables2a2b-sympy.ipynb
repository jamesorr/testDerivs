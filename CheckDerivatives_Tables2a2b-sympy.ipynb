{
 "cells": [
  {
   "cell_type": "markdown",
   "metadata": {},
   "source": [
    "#Check derivatives from Hagens & Middelburg 2015 with [`sympy`](http://www.sympy.org) "
   ]
  },
  {
   "cell_type": "markdown",
   "metadata": {},
   "source": [
    "Derivatives in Tables 2a and 2b are checked by deriving them independantly from Tables 1a and 1b (using sympy).\n",
    "\n",
    "*Section 1 computes the derivatives of Table 1a and compares results to Hagens and Middelburg's derivatives in Table 2a.\n",
    "*Section 2 computes the derivatives of Table 2a and compares results to Hagens and Middelburg's derivatives in Table 2b.\n",
    "\n",
    "***All derivatives check except for the $TotPO4$ system in Table 2b.  See final section (2.3 Tripotic).***\n"
   ]
  },
  {
   "cell_type": "markdown",
   "metadata": {},
   "source": [
    "####Import [`SymPy`](http://www.sympy.org) - a free computer algebra system (CAS) in python "
   ]
  },
  {
   "cell_type": "code",
   "execution_count": 107,
   "metadata": {
    "collapsed": false
   },
   "outputs": [],
   "source": [
    "from sympy import *\n",
    "import math"
   ]
  },
  {
   "cell_type": "markdown",
   "metadata": {},
   "source": [
    "Allow nice LaTeX style output of equations from [sympy](http://www.sympy.org)"
   ]
  },
  {
   "cell_type": "code",
   "execution_count": 108,
   "metadata": {
    "collapsed": false
   },
   "outputs": [],
   "source": [
    "init_printing(use_latex='mathjax')"
   ]
  },
  {
   "cell_type": "markdown",
   "metadata": {},
   "source": [
    "####Calculus - see [documentation](http://docs.sympy.org/latest/tutorial/calculus.html)"
   ]
  },
  {
   "cell_type": "markdown",
   "metadata": {},
   "source": [
    "### 1. Compute derivatives of $\\mathrm{TA_\\mathrm{TotX}}$  expressions in Table 1a & compare to $\\frac{\\partial \\mathrm{TA_\\mathrm{TotX}}}{\\partial [\\mathrm{H}^+] }$ results in Table 2a"
   ]
  },
  {
   "cell_type": "markdown",
   "metadata": {},
   "source": [
    "####1.1 MONOprotic"
   ]
  },
  {
   "cell_type": "markdown",
   "metadata": {},
   "source": [
    "For example, compute solution for $\\left(\\frac{\\partial \\mathrm{TA_\\mathrm{TotB}}}{\\partial [\\mathrm{H}^+] } \\right)_\\mathrm{TotB}$, i.e., for TotX=TotB and compare to that in Table 2a of Hagens and Middelburg (2015, manuscript)"
   ]
  },
  {
   "cell_type": "code",
   "execution_count": 109,
   "metadata": {
    "collapsed": false
   },
   "outputs": [
    {
     "data": {
      "text/latex": [
       "$$- \\frac{b_{4}}{h}$$"
      ],
      "text/plain": [
       "-b₄ \n",
       "────\n",
       " h  "
      ]
     },
     "execution_count": 109,
     "metadata": {},
     "output_type": "execute_result"
    }
   ],
   "source": [
    "h, k, t = symbols('h k t')\n",
    "b3, b4 = symbols('b3 b4')\n",
    "TAb, a = symbols(\"TA a\")\n",
    "\n",
    "# From Table 1a of Hagens & Middelburg\n",
    "TAb = k*b3/h\n",
    "\n",
    "# Differentiate then substitute k\n",
    "a = diff(TAb, h)\n",
    "a = a.subs(k,h*b4/b3)\n",
    "\n",
    "# print result to screen (in nice LaTeX equation)\n",
    "a"
   ]
  },
  {
   "cell_type": "markdown",
   "metadata": {},
   "source": [
    "Conclusion: This result derived with sympy is identical to that given in Table 2a for monoprotic reactions (ammonium, borate, etc.)"
   ]
  },
  {
   "cell_type": "markdown",
   "metadata": {},
   "source": [
    "####1.2 Diprotic"
   ]
  },
  {
   "cell_type": "markdown",
   "metadata": {},
   "source": [
    "For example, compute solution for $\\left(\\frac{\\partial \\mathrm{TA_\\mathrm{DIC}}}{\\partial [\\mathrm{H}^+] } \\right)_\\mathrm{DIC}$, i.e., for TotX=DIC and compare to that in Table 2a"
   ]
  },
  {
   "cell_type": "code",
   "execution_count": 110,
   "metadata": {
    "collapsed": false
   },
   "outputs": [
    {
     "data": {
      "text/latex": [
       "$$- \\frac{1}{h} \\left(c_{2} + 4 c_{3}\\right)$$"
      ],
      "text/plain": [
       "-(c₂ + 4⋅c₃) \n",
       "─────────────\n",
       "      h      "
      ]
     },
     "execution_count": 110,
     "metadata": {},
     "output_type": "execute_result"
    }
   ],
   "source": [
    "# Define symbols:\n",
    "h, k1, k2, t = symbols('h k1 k2 t')  # h is H+, k1 is K1, k2 is K2, and t = DIC\n",
    "c1, c2, c3 = symbols('c1 c2 c3')     #c1 is H2CO3, c2 is HCO3-, and c3 is CO32-\n",
    "TAc, a = symbols(\"TA a\")\n",
    "\n",
    "# Formula from Table 1a\n",
    "TAc = (k1/h + (2*k1*k2)/(h**2))*c1\n",
    "\n",
    "# Take derivative then substitute k, k2, and t :\n",
    "a = diff(TAc,h)\n",
    "a = a.subs(k1, h*c2/c1)\n",
    "a=simplify(a)\n",
    "a = a.subs(k2, h*c3/c2) \n",
    "a=simplify(a)\n",
    "a = a.subs(c1+c2+c3,t)\n",
    "a=simplify(a)\n",
    "a"
   ]
  },
  {
   "cell_type": "markdown",
   "metadata": {},
   "source": [
    "Compare with diprotic solution from Hagens and Mideleburg (Table 2a).  Visually the equation just above derived with `sympy` is identical to the corresponding equation in Table 2a. However, I go through the process to illustrate how to compare to symbolic results in sympy, for later comparisons (below) that are more complicated (i.e., where equations might be the same but have different forms)."
   ]
  },
  {
   "cell_type": "markdown",
   "metadata": {},
   "source": [
    "Just below is the 'diprotic' equation from Table 1a (without the $nTA_\\mathrm{TotX} / H^+$ term given in equation 19)"
   ]
  },
  {
   "cell_type": "code",
   "execution_count": 111,
   "metadata": {
    "collapsed": false
   },
   "outputs": [
    {
     "data": {
      "text/latex": [
       "$$- \\frac{1}{h} \\left(c_{2} + 4 c_{3}\\right)$$"
      ],
      "text/plain": [
       "-(c₂ + 4⋅c₃) \n",
       "─────────────\n",
       "      h      "
      ]
     },
     "execution_count": 111,
     "metadata": {},
     "output_type": "execute_result"
    }
   ],
   "source": [
    "b = symbols(\"b\")\n",
    "b = (-1/h) * (c2 + 4*c3)\n",
    "b"
   ]
  },
  {
   "cell_type": "markdown",
   "metadata": {},
   "source": [
    "Test 1: should result in 'O' if they are the same"
   ]
  },
  {
   "cell_type": "code",
   "execution_count": 112,
   "metadata": {
    "collapsed": false
   },
   "outputs": [
    {
     "data": {
      "text/latex": [
       "$$0$$"
      ],
      "text/plain": [
       "0"
      ]
     },
     "execution_count": 112,
     "metadata": {},
     "output_type": "execute_result"
    }
   ],
   "source": [
    "#If a = b, then simplify(a - b) = 0\n",
    "simplify(a - b) "
   ]
  },
  {
   "cell_type": "markdown",
   "metadata": {},
   "source": [
    "Test 2: should result in 'True' if they are the same"
   ]
  },
  {
   "cell_type": "code",
   "execution_count": 113,
   "metadata": {
    "collapsed": false
   },
   "outputs": [
    {
     "data": {
      "text/plain": [
       "True"
      ]
     },
     "execution_count": 113,
     "metadata": {},
     "output_type": "execute_result"
    }
   ],
   "source": [
    "#Another way to do the same verification\n",
    "#If a=b, then a.equals(b) yields 'True'\n",
    "a.equals(b)"
   ]
  },
  {
   "cell_type": "markdown",
   "metadata": {},
   "source": [
    "Conclusion: This result derived with sympy is identical to that given in Table 2a for diprotic reactions ($DIC$, $TotSO4$)"
   ]
  },
  {
   "cell_type": "markdown",
   "metadata": {},
   "source": [
    "####1.3 Triprotic"
   ]
  },
  {
   "cell_type": "markdown",
   "metadata": {},
   "source": [
    "Compute solution for $\\left(\\frac{\\partial \\mathrm{TA_\\mathrm{TotPO4}}}{\\partial [\\mathrm{H}^+] } \\right)_\\mathrm{TotPO4}$, i.e., for TotX=TotPO4 and compare to that in Table 2a "
   ]
  },
  {
   "cell_type": "code",
   "execution_count": 114,
   "metadata": {
    "collapsed": false,
    "scrolled": true
   },
   "outputs": [
    {
     "data": {
      "text/latex": [
       "$$- \\frac{1}{h} \\left(p_{1} + p_{3} + 4 p_{4}\\right)$$"
      ],
      "text/plain": [
       "-(p₁ + p₃ + 4⋅p₄) \n",
       "──────────────────\n",
       "        h         "
      ]
     },
     "execution_count": 114,
     "metadata": {},
     "output_type": "execute_result"
    }
   ],
   "source": [
    "h, k1, k2, k3, t = symbols('h k1 k2 k3 t')\n",
    "p1, p2, p3, p4 = symbols('p1 p2 p3 p4')\n",
    "TAp, a = symbols(\"TA a\")\n",
    "\n",
    "# Formula from Table 1a:\n",
    "TAp = (k2/h + (2*k2*k3)/(h**2) - h/k1) * p2\n",
    "\n",
    "# Differentiate and subsitute definitions of k's\n",
    "a = diff(TAp,h)\n",
    "a = a.subs(k1, h*p2/p1)\n",
    "a=simplify(a)\n",
    "a = a.subs(k2, h*p3/p2) \n",
    "a=simplify(a)\n",
    "a = a.subs(k3, h*p4/p3) \n",
    "a=simplify(a)\n",
    "#a = a.subs(p1+p2+p3+p4,t)\n",
    "#a=simplify(a)\n",
    "a"
   ]
  },
  {
   "cell_type": "markdown",
   "metadata": {},
   "source": [
    "Compare with solution from Hagens and Mideleburg (Table 2a)"
   ]
  },
  {
   "cell_type": "code",
   "execution_count": 115,
   "metadata": {
    "collapsed": false
   },
   "outputs": [
    {
     "data": {
      "text/latex": [
       "$$- \\frac{1}{h} \\left(p_{1} + p_{3} + 4 p_{4}\\right)$$"
      ],
      "text/plain": [
       "-(p₁ + p₃ + 4⋅p₄) \n",
       "──────────────────\n",
       "        h         "
      ]
     },
     "execution_count": 115,
     "metadata": {},
     "output_type": "execute_result"
    }
   ],
   "source": [
    "b = symbols(\"b\")\n",
    "b = (-1/h) * (p1 + p3 + 4*p4)\n",
    "b"
   ]
  },
  {
   "cell_type": "code",
   "execution_count": 116,
   "metadata": {
    "collapsed": false
   },
   "outputs": [
    {
     "data": {
      "text/latex": [
       "$$0$$"
      ],
      "text/plain": [
       "0"
      ]
     },
     "execution_count": 116,
     "metadata": {},
     "output_type": "execute_result"
    }
   ],
   "source": [
    "#If a = b, then simplify(a - b) = 0\n",
    "simplify(a - b) "
   ]
  },
  {
   "cell_type": "code",
   "execution_count": 117,
   "metadata": {
    "collapsed": false
   },
   "outputs": [
    {
     "data": {
      "text/plain": [
       "True"
      ]
     },
     "execution_count": 117,
     "metadata": {},
     "output_type": "execute_result"
    }
   ],
   "source": [
    "#Another way to do the same verification\n",
    "#If a=b, then a.equals(b) yields 'True'\n",
    "a.equals(b)"
   ]
  },
  {
   "cell_type": "markdown",
   "metadata": {},
   "source": [
    "Conclusion: The derivation for the triprotic system $TotPO4$ in Table 2a is correct."
   ]
  },
  {
   "cell_type": "markdown",
   "metadata": {},
   "source": [
    "### 2. Compute derivatives of $\\mathrm{TA_\\mathrm{TotX}}$  expressions from Table 1b & compare to $\\frac{\\partial \\mathrm{TA_\\mathrm{TotX}}}{\\partial [\\mathrm{H}^+] }$ results in Table 2b"
   ]
  },
  {
   "cell_type": "markdown",
   "metadata": {},
   "source": [
    "####2.1 MONOprotic"
   ]
  },
  {
   "cell_type": "markdown",
   "metadata": {},
   "source": [
    "For example, compute solution for $\\left(\\frac{\\partial \\mathrm{TA_\\mathrm{TotB}}}{\\partial [\\mathrm{H}^+] } \\right)_\\mathrm{TotB}$, i.e., for TotX=TotB and compare to that in Table 2b of Hagens and Middelburg (2015, manuscript)"
   ]
  },
  {
   "cell_type": "code",
   "execution_count": 118,
   "metadata": {
    "collapsed": false
   },
   "outputs": [
    {
     "data": {
      "text/latex": [
       "$$- \\frac{b_{3} b_{4}}{h t}$$"
      ],
      "text/plain": [
       "-b₃⋅b₄ \n",
       "───────\n",
       "  h⋅t  "
      ]
     },
     "execution_count": 118,
     "metadata": {},
     "output_type": "execute_result"
    }
   ],
   "source": [
    "h, k, t = symbols('h k t')\n",
    "b3, b4 = symbols('b3 b4')\n",
    "TA, a = symbols(\"TA a\")\n",
    "\n",
    "# Differentiate then substitute k\n",
    "a = diff((t*k)/(k+h),h)\n",
    "a = a.subs(k,h*b4/b3)\n",
    "a=simplify(a)\n",
    "a = a.subs(b3+b4,t)\n",
    "a"
   ]
  },
  {
   "cell_type": "markdown",
   "metadata": {},
   "source": [
    "Above result is identical to that found in Table 2b.  Thus the dTA/dH for all monoprotic reactions in Table 2b are equally valid"
   ]
  },
  {
   "cell_type": "markdown",
   "metadata": {},
   "source": [
    "####2.2 Diprotic"
   ]
  },
  {
   "cell_type": "markdown",
   "metadata": {},
   "source": [
    "For example, compute solution for $\\left(\\frac{\\partial \\mathrm{TA_\\mathrm{DIC}}}{\\partial [\\mathrm{H}^+] } \\right)_\\mathrm{DIC}$, i.e., for TotX=DIC from Table 2b of Hagens and Middelburg (2015, manuscript)"
   ]
  },
  {
   "cell_type": "code",
   "execution_count": 119,
   "metadata": {
    "collapsed": false
   },
   "outputs": [
    {
     "data": {
      "text/latex": [
       "$$\\frac{1}{h t} \\left(c_{2} t - \\left(2 c_{1} + c_{2}\\right) \\left(c_{2} + 2 c_{3}\\right)\\right)$$"
      ],
      "text/plain": [
       "c₂⋅t - (2⋅c₁ + c₂)⋅(c₂ + 2⋅c₃)\n",
       "──────────────────────────────\n",
       "             h⋅t              "
      ]
     },
     "execution_count": 119,
     "metadata": {},
     "output_type": "execute_result"
    }
   ],
   "source": [
    "h, k1, k2, t = symbols('h k1 k2 t')\n",
    "c1, c2, c3 = symbols('c1 c2 c3')\n",
    "TAc, a = symbols(\"TA a\")\n",
    "\n",
    "# From Table 1b\n",
    "TAc = t*(k1*h + 2*k1*k2)/(h**2 +k1*h + k1*k2)\n",
    "# Take derivative & substitute k's and t:\n",
    "a = diff(TAc,h)\n",
    "a = a.subs(k1, h*c2/c1)\n",
    "a=simplify(a)\n",
    "a = a.subs(k2, h*c3/c2) \n",
    "a=simplify(a)\n",
    "a = a.subs(c1+c2+c3,t)\n",
    "a=simplify(a)\n",
    "a"
   ]
  },
  {
   "cell_type": "markdown",
   "metadata": {},
   "source": [
    "Compare with 'original' solution for $\\left(\\frac{\\partial \\mathrm{TA_\\mathrm{DIC}}}{\\partial [\\mathrm{H}^+] } \\right)_\\mathrm{DIC}$, i.e., for TotX=DIC in Table 2b of Hagens and Middelburg (2015, manuscript)"
   ]
  },
  {
   "cell_type": "code",
   "execution_count": 120,
   "metadata": {
    "collapsed": false
   },
   "outputs": [
    {
     "data": {
      "text/latex": [
       "$$- \\frac{1}{h t} \\left(c_{2} \\left(c_{1} - c_{3}\\right) + 2 c_{3} \\left(2 c_{1} + c_{2}\\right)\\right)$$"
      ],
      "text/plain": [
       "-(c₂⋅(c₁ - c₃) + 2⋅c₃⋅(2⋅c₁ + c₂)) \n",
       "───────────────────────────────────\n",
       "                h⋅t                "
      ]
     },
     "execution_count": 120,
     "metadata": {},
     "output_type": "execute_result"
    }
   ],
   "source": [
    "#Solution from Hagens and Mideleburg (Table 2b)\n",
    "b = symbols(\"b\")\n",
    "b = (-1/(h*t))*( c2*(c1-c3) + 2*c3*(2*c1 + c2) )\n",
    "b"
   ]
  },
  {
   "cell_type": "markdown",
   "metadata": {},
   "source": [
    "Is proposed solution the same as that derived above using `sympy`?"
   ]
  },
  {
   "cell_type": "markdown",
   "metadata": {},
   "source": [
    "***Test 1: should yield 'True' if the same*** "
   ]
  },
  {
   "cell_type": "code",
   "execution_count": 121,
   "metadata": {
    "collapsed": false
   },
   "outputs": [
    {
     "data": {
      "text/plain": [
       "False"
      ]
     },
     "execution_count": 121,
     "metadata": {},
     "output_type": "execute_result"
    }
   ],
   "source": [
    "a.equals(b) #the 'False' below indicates it is not the same"
   ]
  },
  {
   "cell_type": "markdown",
   "metadata": {},
   "source": [
    "***Test 2: should yield ZERO if it is the same***"
   ]
  },
  {
   "cell_type": "code",
   "execution_count": 122,
   "metadata": {
    "collapsed": false
   },
   "outputs": [
    {
     "data": {
      "text/latex": [
       "$$\\frac{c_{2}}{h t} \\left(- c_{1} - c_{2} - c_{3} + t\\right)$$"
      ],
      "text/plain": [
       "c₂⋅(-c₁ - c₂ - c₃ + t)\n",
       "──────────────────────\n",
       "         h⋅t          "
      ]
     },
     "execution_count": 122,
     "metadata": {},
     "output_type": "execute_result"
    }
   ],
   "source": [
    "#simplify(a - b)\n",
    "c = a - b\n",
    "c=simplify(c)\n",
    "c"
   ]
  },
  {
   "cell_type": "markdown",
   "metadata": {},
   "source": [
    "The simplify above does not give zero (meaning a=b), but there is a problem. From inspection of the difference above, the term in parentheses will become zero if we inform `sympy` that $t=c1+c2+c3$. So let's do that now:"
   ]
  },
  {
   "cell_type": "code",
   "execution_count": 123,
   "metadata": {
    "collapsed": false
   },
   "outputs": [
    {
     "data": {
      "text/latex": [
       "$$0$$"
      ],
      "text/plain": [
       "0"
      ]
     },
     "execution_count": 123,
     "metadata": {},
     "output_type": "execute_result"
    }
   ],
   "source": [
    "c = c.subs(c1+c2+c3,t)\n",
    "simplify(c)"
   ]
  },
  {
   "cell_type": "markdown",
   "metadata": {},
   "source": [
    "So yes, a = b. Therefore the derived result for $DIC$ in Table 2b is correct!"
   ]
  },
  {
   "cell_type": "markdown",
   "metadata": {},
   "source": [
    "####2.3 Triprotic"
   ]
  },
  {
   "cell_type": "markdown",
   "metadata": {},
   "source": [
    "Compute derivative for $\\left(\\frac{\\partial \\mathrm{TA_\\mathrm{TotPO4}}}{\\partial [\\mathrm{H}^+] } \\right)_\\mathrm{TotPO4}$, i.e., for TotX=TotPO4 from relationship in Table 1b and compare to solution proposed in Table 2b by Hagens and Middelburg (2015, manuscript)"
   ]
  },
  {
   "cell_type": "code",
   "execution_count": 133,
   "metadata": {
    "collapsed": false,
    "scrolled": true
   },
   "outputs": [
    {
     "data": {
      "text/latex": [
       "$$- \\frac{1}{h t} \\left(t \\left(3 p_{1} - p_{3}\\right) + \\left(- p_{1} + p_{3} + 2 p_{4}\\right) \\left(3 p_{1} + 2 p_{2} + p_{3}\\right)\\right)$$"
      ],
      "text/plain": [
       "-(t⋅(3⋅p₁ - p₃) + (-p₁ + p₃ + 2⋅p₄)⋅(3⋅p₁ + 2⋅p₂ + p₃)) \n",
       "────────────────────────────────────────────────────────\n",
       "                          h⋅t                           "
      ]
     },
     "execution_count": 133,
     "metadata": {},
     "output_type": "execute_result"
    }
   ],
   "source": [
    "#Define symbols to be used\n",
    "h, k1, k2, k3, t = symbols('h k1 k2 k3 t')\n",
    "p1, p2, p3, p4 = symbols('p1 p2 p3 p4')\n",
    "TAp, a = symbols(\"TA a\")\n",
    "\n",
    "# Formula from Table 1b\n",
    "TAp = t*(k1*k2*h + 2*k1*k2*k3 - h**3)/(h**3 + k1*(h**2) + k1*k2*h + k1*k2*k3)\n",
    "\n",
    "# Take derivative then substitute k's and t\n",
    "a = diff(TAp,h)\n",
    "a = a.subs(k1, h*p2/p1)\n",
    "a=simplify(a)\n",
    "a = a.subs(k2, h*p3/p2) \n",
    "a=simplify(a)\n",
    "a = a.subs(k3, h*p4/p3) \n",
    "a=simplify(a)\n",
    "a = a.subs(p1+p2+p3+p4,t)\n",
    "a=simplify(a)\n",
    "a"
   ]
  },
  {
   "cell_type": "markdown",
   "metadata": {},
   "source": [
    "Compare with proposed solution for $\\left(\\frac{\\partial \\mathrm{TA_\\mathrm{TotPO4}}}{\\partial [\\mathrm{H}^+] } \\right)_\\mathrm{TotPO4}$, i.e., for TotX=TotPO4 from Table 2b of Hagens and Middelburg (2015, manuscript)"
   ]
  },
  {
   "cell_type": "code",
   "execution_count": 129,
   "metadata": {
    "collapsed": false
   },
   "outputs": [
    {
     "data": {
      "text/latex": [
       "$$- \\frac{1}{h t} \\left(- p_{1} \\left(- p_{2} - 2 p_{3} - 3 p_{4}\\right) + p_{3} \\left(2 p_{1} + p_{2} - p_{4}\\right) + 2 p_{4} \\left(4 p_{1} + 2 p_{2}\\right)\\right)$$"
      ],
      "text/plain": [
       "-(-p₁⋅(-p₂ - 2⋅p₃ - 3⋅p₄) + p₃⋅(2⋅p₁ + p₂ - p₄) + 2⋅p₄⋅(4⋅p₁ + 2⋅p₂)) \n",
       "──────────────────────────────────────────────────────────────────────\n",
       "                                 h⋅t                                  "
      ]
     },
     "execution_count": 129,
     "metadata": {},
     "output_type": "execute_result"
    }
   ],
   "source": [
    "b = symbols(\"b\")\n",
    "b = (-1/(h*t))*( -p1*(-p2 - 2*p3 - 3*p4) + p3*(2*p1 + p2 - p4) + 2*p4*(3*p1 + 2*p2 + p1) )\n",
    "b = b.subs(p1+p2+p3+p4,t)\n",
    "b"
   ]
  },
  {
   "cell_type": "markdown",
   "metadata": {},
   "source": [
    "The two formulas above look different, but they are complicated.  Let us now run 2 tests in sympy to determine if they are really different."
   ]
  },
  {
   "cell_type": "markdown",
   "metadata": {},
   "source": [
    "****Test 1: if a=b, then result of a.equals(b) should be 'True'****"
   ]
  },
  {
   "cell_type": "code",
   "execution_count": 130,
   "metadata": {
    "collapsed": false,
    "scrolled": true
   },
   "outputs": [
    {
     "data": {
      "text/plain": [
       "False"
      ]
     },
     "execution_count": 130,
     "metadata": {},
     "output_type": "execute_result"
    }
   ],
   "source": [
    "a.equals(b)"
   ]
  },
  {
   "cell_type": "markdown",
   "metadata": {},
   "source": [
    "****Test 2: if a=b, then simplify(a-b) = 0****"
   ]
  },
  {
   "cell_type": "code",
   "execution_count": 131,
   "metadata": {
    "collapsed": false
   },
   "outputs": [
    {
     "data": {
      "text/latex": [
       "$$\\frac{1}{h t} \\left(3 p_{1}^{2} + 3 p_{1} p_{2} + 2 p_{1} p_{3} + 5 p_{1} p_{4} - 3 p_{1} t - p_{2} p_{3} - p_{3}^{2} - 3 p_{3} p_{4} + p_{3} t\\right)$$"
      ],
      "text/plain": [
       "    2                                                    2                 \n",
       "3⋅p₁  + 3⋅p₁⋅p₂ + 2⋅p₁⋅p₃ + 5⋅p₁⋅p₄ - 3⋅p₁⋅t - p₂⋅p₃ - p₃  - 3⋅p₃⋅p₄ + p₃⋅t\n",
       "───────────────────────────────────────────────────────────────────────────\n",
       "                                    h⋅t                                    "
      ]
     },
     "execution_count": 131,
     "metadata": {},
     "output_type": "execute_result"
    }
   ],
   "source": [
    "c = symbols(\"c\")\n",
    "c = simplify(a - b)\n",
    "c = c.subs(p1+p2+p3+p4,t)  #This line makes no difference\n",
    "c"
   ]
  },
  {
   "cell_type": "markdown",
   "metadata": {},
   "source": [
    "In short, $a \\ne b$ since `simplify(a-b)`$ \\ne 0$.  This inequality is also confirmed by `sympy`'s \n",
    "<br>\n",
    "a.equals(b) = False \n",
    "<br>\n",
    "Therefore the derivative provided in Table 2b for \n",
    "$\\left(\\frac{\\partial \\mathrm{TA_\\mathrm{TotPO4}}}{\\partial [\\mathrm{H}^+] } \\right)_\\mathrm{TotPO4}$\n",
    "appears to be ***wrong***.\n"
   ]
  }
 ],
 "metadata": {
  "kernelspec": {
   "display_name": "Python 2",
   "language": "python",
   "name": "python2"
  },
  "language_info": {
   "codemirror_mode": {
    "name": "ipython",
    "version": 2
   },
   "file_extension": ".py",
   "mimetype": "text/x-python",
   "name": "python",
   "nbconvert_exporter": "python",
   "pygments_lexer": "ipython2",
   "version": "2.7.10"
  }
 },
 "nbformat": 4,
 "nbformat_minor": 0
}
